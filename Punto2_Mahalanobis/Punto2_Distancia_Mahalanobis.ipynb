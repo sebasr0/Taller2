import pandas as pd
import numpy as np

# Leer el conjunto de datos
path = '/content/pima-indians-diabetes.csv'
df = pd.read_csv(path, sep=",",
                  names=[
                      "pregnancies",
                      "glucose",
                      "blood_pressure",
                      "skin_thickness",
                      "insulin",
                      "bmi",
                      "diabetes_pedigree_function",
                      "age",
                      "outcome",
                  ])

# Seleccionar 4 variables numéricas de interés (por ejemplo: glucose, bmi, blood_pressure, age)
selected_columns = ["glucose", "bmi", "blood_pressure", "age"]
selected_data = df[selected_columns]

# Calcular el vector de medias
mean_vector = selected_data.mean()

# Calcular la matriz de covarianzas
covariance_matrix = selected_data.cov()

# Calcular la inversa de la matriz de covarianzas
covariance_inverse = np.linalg.inv(covariance_matrix)

# Calcular Z, la matriz de datos centrados
Z = selected_data - mean_vector

# Calcular Z_Transpuesta * Z
Z_transpose_Z = np.dot(Z.T, Z)

# Imprimir resultados
print("Vector de Medias:")
print(mean_vector)
print("\nMatriz de Covarianzas:")
print(covariance_matrix)
print("\nInversa de la Matriz de Covarianzas:")
print(covariance_inverse)
print("\nZ_Transpuesta * Z:")
print(Z_transpose_Z)
print("\n(Z_Transpuesta * Z) / (n-1):")
print(Z_transpose_Z/(len(df_filtered)-1))