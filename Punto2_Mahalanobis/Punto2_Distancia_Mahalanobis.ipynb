{
 "cells": [
  {
   "cell_type": "markdown",
   "metadata": {},
   "source": [
    "# Problema 2 \n",
    "## Sebastian Ramirez Escobar \n",
    "## Sebastian Carvalho Salazar\n",
    "## Johan Stiven Paez Bermudez\n",
    "\n",
    "### Descripción del problema:\n",
    "1. Descargue un conjunto de datos y elija 4 variables numéricas según su interés. Calcule el vector de medias, la matriz de covarianzas y su inversa.\n",
    "2. Llame Z a la matriz de datos obtenida al restar la media de cada observación. ¿Cuál es la relación entre Z TZ y la matriz de covarianza?\n",
    "3. Calcule la distancia de Mahalanobis de cada observación respecto al vector de medias. Realice una gráfica de dispersión de variables dos a dos coloreando cada observación de acuerdo con la distancia calculada.\n",
    "4. Identifique la bola de radio 1 con centro en el vector de medias respecto a la distancia de Mahalanobis en la gráfica del punto anterior.\n"
   ]
  },
  {
   "cell_type": "markdown",
   "metadata": {},
   "source": [
    "# Vector de medias, matriz de covarianzas y su inversa."
   ]
  },
  {
   "cell_type": "code",
   "execution_count": 4,
   "metadata": {},
   "outputs": [
    {
     "name": "stdout",
     "output_type": "stream",
     "text": [
      "Vector de Medias:\n",
      "glucose           120.894531\n",
      "bmi                31.992578\n",
      "blood_pressure     69.105469\n",
      "age                33.240885\n",
      "dtype: float64\n",
      "\n",
      "Matriz de Covarianzas:\n",
      "                    glucose        bmi  blood_pressure         age\n",
      "glucose         1022.248314  55.726987       94.430956   99.082805\n",
      "bmi               55.726987  62.159984       43.004695    3.360330\n",
      "blood_pressure    94.430956  43.004695      374.647271   54.523453\n",
      "age               99.082805   3.360330       54.523453  138.303046\n",
      "\n",
      "Inversa de la Matriz de Covarianzas:\n",
      "[[ 1.10584097e-03 -9.05130355e-04 -6.65546392e-05 -7.44014710e-04]\n",
      " [-9.05130355e-04  1.82358560e-02 -2.01033043e-03  9.97913803e-04]\n",
      " [-6.65546392e-05 -2.01033043e-03  3.07933790e-03 -1.11744712e-03]\n",
      " [-7.44014710e-04  9.97913803e-04 -1.11744712e-03  8.17981132e-03]]\n",
      "\n",
      "Z_Transpuesta * Z:\n",
      "[[784064.45703125  42742.59882813  72428.54296875  75996.51171875]\n",
      " [ 42742.59882813  47676.70769531  32984.60117187   2577.37304688]\n",
      " [ 72428.54296875  32984.60117187 287354.45703125  41819.48828125]\n",
      " [ 75996.51171875   2577.37304688  41819.48828125 106078.43619792]]\n",
      "\n",
      "(Z_Transpuesta * Z) / (n-1):\n",
      "[[1022.24831425   55.72698674   94.43095563   99.08280537]\n",
      " [  55.72698674   62.15998396   43.00469514    3.36032992]\n",
      " [  94.43095563   43.00469514  374.64727123   54.52345278]\n",
      " [  99.08280537    3.36032992   54.52345278  138.30304589]]\n"
     ]
    }
   ],
   "source": [
    "import pandas as pd\n",
    "import numpy as np\n",
    "\n",
    "# Leer el conjunto de datos\n",
    "path = './content/pima-indians-diabetes.csv'\n",
    "df = pd.read_csv(path, sep=\",\",\n",
    "                  names=[\n",
    "                      \"pregnancies\",\n",
    "                      \"glucose\",\n",
    "                      \"blood_pressure\",\n",
    "                      \"skin_thickness\",\n",
    "                      \"insulin\",\n",
    "                      \"bmi\",\n",
    "                      \"diabetes_pedigree_function\",\n",
    "                      \"age\",\n",
    "                      \"outcome\",\n",
    "                  ])\n",
    "\n",
    "# Seleccionar 4 variables numéricas de interés (por ejemplo: glucose, bmi, blood_pressure, age)\n",
    "selected_columns = [\"glucose\", \"bmi\", \"blood_pressure\", \"age\"]\n",
    "selected_data = df[selected_columns]\n",
    "\n",
    "# Calcular el vector de medias\n",
    "mean_vector = selected_data.mean()\n",
    "\n",
    "# Calcular la matriz de covarianzas\n",
    "covariance_matrix = selected_data.cov()\n",
    "\n",
    "# Calcular la inversa de la matriz de covarianzas\n",
    "covariance_inverse = np.linalg.inv(covariance_matrix)\n",
    "\n",
    "# Calcular Z, la matriz de datos centrados\n",
    "Z = selected_data - mean_vector\n",
    "\n",
    "# Calcular Z_Transpuesta * Z\n",
    "Z_transpose_Z = np.dot(Z.T, Z)\n",
    "\n",
    "# Imprimir resultados\n",
    "print(\"Vector de Medias:\")\n",
    "print(mean_vector)\n",
    "print(\"\\nMatriz de Covarianzas:\")\n",
    "print(covariance_matrix)\n",
    "print(\"\\nInversa de la Matriz de Covarianzas:\")\n",
    "print(covariance_inverse)\n",
    "print(\"\\nZ_Transpuesta * Z:\")\n",
    "print(Z_transpose_Z)\n",
    "print(\"\\n(Z_Transpuesta * Z) / (n-1):\")\n",
    "print(Z_transpose_Z/(len(df)-1))"
   ]
  },
  {
   "cell_type": "code",
   "execution_count": null,
   "metadata": {},
   "outputs": [],
   "source": []
  }
 ],
 "metadata": {
  "kernelspec": {
   "display_name": "base",
   "language": "python",
   "name": "python3"
  },
  "language_info": {
   "codemirror_mode": {
    "name": "ipython",
    "version": 3
   },
   "file_extension": ".py",
   "mimetype": "text/x-python",
   "name": "python",
   "nbconvert_exporter": "python",
   "pygments_lexer": "ipython3",
   "version": "3.10.9"
  },
  "orig_nbformat": 4
 },
 "nbformat": 4,
 "nbformat_minor": 2
}
