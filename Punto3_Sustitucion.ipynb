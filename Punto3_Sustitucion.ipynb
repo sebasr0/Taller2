{
 "cells": [
  {
   "cell_type": "markdown",
   "metadata": {},
   "source": [
    "# Problema 3 \n",
    "## Sebastian Ramirez Escobar \n",
    "## Sebastian Carvalho Salazar \n",
    "## Johan Stiven Paez Bermudez \n",
    "\n",
    "### Descripción del problema:\n",
    "Implemente el algoritmo de substitución hacia adelante para encontrar la solución al sistema lineal Lx = b, donde L es una matriz triangular inferior. En caso de infinitas soluciones, el algoritmo debe retornar una solución particular y una base para el espacio nulo de L.\n"
   ]
  },
  {
   "cell_type": "code",
   "execution_count": 1,
   "metadata": {},
   "outputs": [
    {
     "name": "stdout",
     "output_type": "stream",
     "text": [
      "Solución x: [0.8        0.76666667 0.27142857]\n"
     ]
    }
   ],
   "source": [
    "import numpy as np\n",
    "\n",
    "def forward_substitution(L, b):\n",
    "    n = len(L)\n",
    "    x = np.zeros(n)\n",
    "\n",
    "    for i in range(n):\n",
    "        if L[i, i] == 0:\n",
    "            raise ValueError(\"La matriz L tiene un elemento diagonal igual a cero.\")\n",
    "        \n",
    "        x[i] = (b[i] - np.dot(L[i, :i], x[:i])) / L[i, i]\n",
    "\n",
    "    return x\n",
    "\n",
    "L = np.array([[5, 0, 0],\n",
    "              [3, 6, 0],\n",
    "              [1, 3, 7]])\n",
    "b = np.array([4, 7, 5])\n",
    "\n",
    "x = forward_substitution(L, b)\n",
    "print(\"Solución x:\", x)"
   ]
  },
  {
   "cell_type": "markdown",
   "metadata": {},
   "source": [
    "# Verificación"
   ]
  },
  {
   "cell_type": "code",
   "execution_count": 2,
   "metadata": {},
   "outputs": [
    {
     "name": "stdout",
     "output_type": "stream",
     "text": [
      "Solución x: [0.8        0.76666667 0.27142857]\n"
     ]
    }
   ],
   "source": [
    "L = np.array([[5, 0, 0],\n",
    "              [3, 6, 0],\n",
    "              [1, 3, 7]])\n",
    "b = np.array([4, 7, 5])\n",
    "\n",
    "x = np.linalg.solve(L, b)\n",
    "\n",
    "print(\"Solución x:\", x)"
   ]
  },
  {
   "cell_type": "code",
   "execution_count": 3,
   "metadata": {},
   "outputs": [
    {
     "name": "stdout",
     "output_type": "stream",
     "text": [
      "Solución x: [0.8 0.  0.6]\n"
     ]
    }
   ],
   "source": [
    "import numpy as np\n",
    "\n",
    "def forward_substitution(L, b):\n",
    "    n = len(L)\n",
    "    x = np.zeros(n)\n",
    "    null_space_basis = []\n",
    "\n",
    "    for i in range(n):\n",
    "        if L[i, i] == 0:\n",
    "            if np.isclose(b[i], 0):  # Si el término independiente correspondiente es cero\n",
    "                # Generar vector de base para el espacio nulo\n",
    "                null_vector = np.zeros(n)\n",
    "                null_vector[i] = 1\n",
    "                for j in range(i+1, n):\n",
    "                    null_vector[j] = -L[j, i]  # El resto del vector se construye para que Lx = 0\n",
    "                null_space_basis.append(null_vector)\n",
    "            else:\n",
    "                raise ValueError(\"El sistema no tiene solución.\")\n",
    "        else:\n",
    "            x[i] = (b[i] - np.dot(L[i, :i], x[:i])) / L[i, i]\n",
    "\n",
    "    if null_space_basis:\n",
    "        return x, np.array(null_space_basis)\n",
    "    return x\n",
    "\n",
    "L = np.array([[5, 0, 0],\n",
    "              [0, 6, 0],\n",
    "              [1, 3, 7]])\n",
    "b = np.array([4, 0, 5])\n",
    "\n",
    "result = forward_substitution(L, b)\n",
    "if isinstance(result, tuple):\n",
    "    x_particular, null_basis = result\n",
    "    print(\"Solución particular x:\", x_particular)\n",
    "    print(\"Base del espacio nulo de L:\\n\", null_basis)\n",
    "else:\n",
    "    print(\"Solución x:\", result)\n"
   ]
  },
  {
   "cell_type": "code",
   "execution_count": 5,
   "metadata": {},
   "outputs": [
    {
     "name": "stdout",
     "output_type": "stream",
     "text": [
      "Solución particular x: [0.8 0.  0.6]\n",
      "Base del espacio nulo de L:\n",
      " [[0. 1. 0.]]\n"
     ]
    }
   ],
   "source": [
    "import numpy as np\n",
    "\n",
    "def forward_substitution(L, b):\n",
    "    n = L.shape[0]\n",
    "    x = np.zeros(n)\n",
    "    null_space_basis = []\n",
    "    \n",
    "    for i in range(n):\n",
    "        if np.isclose(L[i, i], 0):  # Si el elemento diagonal es cercano a cero\n",
    "            if not np.isclose(b[i], 0):  # Si el término independiente no es cero\n",
    "                raise ValueError(\"El sistema no tiene solución.\")\n",
    "            else:  # Generamos una base para el espacio nulo\n",
    "                null_vector = np.zeros(n)\n",
    "                null_vector[i] = 1\n",
    "                null_space_basis.append(null_vector)\n",
    "        else:\n",
    "            x[i] = (b[i] - np.dot(L[i, :i], x[:i])) / L[i, i]\n",
    "    \n",
    "    if null_space_basis:\n",
    "        return x, np.array(null_space_basis)\n",
    "    return x\n",
    "\n",
    "# Ejemplo de uso\n",
    "L = np.array([[5, 0, 0],\n",
    "              [3, 0, 0],\n",
    "              [1, 3, 7]])\n",
    "b = np.array([4, 0, 5])\n",
    "\n",
    "result = forward_substitution(L, b)\n",
    "\n",
    "if isinstance(result, tuple):\n",
    "    x_particular, null_basis = result\n",
    "    print(\"Solución particular x:\", x_particular)\n",
    "    print(\"Base del espacio nulo de L:\\n\", null_basis)\n",
    "else:\n",
    "    print(\"Solución x:\", result)"
   ]
  }
 ],
 "metadata": {
  "kernelspec": {
   "display_name": "base",
   "language": "python",
   "name": "python3"
  },
  "language_info": {
   "codemirror_mode": {
    "name": "ipython",
    "version": 3
   },
   "file_extension": ".py",
   "mimetype": "text/x-python",
   "name": "python",
   "nbconvert_exporter": "python",
   "pygments_lexer": "ipython3",
   "version": "3.10.9"
  }
 },
 "nbformat": 4,
 "nbformat_minor": 2
}
