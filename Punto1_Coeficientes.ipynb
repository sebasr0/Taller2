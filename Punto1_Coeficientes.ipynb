{
 "cells": [
  {
   "cell_type": "markdown",
   "metadata": {},
   "source": [
    "# Problema 1 \n",
    "## Sebastian Ramirez Escobar \n",
    "## Sebastian Carvalho Salazar \n",
    "## Johan Stiven Paez Bermudez \n",
    "\n",
    "### Descripción del problema:\n",
    "1. Un estudiante del curso de álgebra para ciencia de los datos debe hacer varios cálculos durante tres días en tres procesadores A B C. El primer día gasta 2, 4 y 5 horas en los procesadores A B C, respectivamente y por ello paga 220 dólares. El segundo día, las horas contratadas en cada procesador son 6, 9 y 8, respectivamente, y paga 490 dólares. El tercer día contrata 4.1, 5 y 3 horas, respectivamente en A B C y paga 274 dólares. ¿Cuál es el precio por hora en cada procesador?\n",
    "#### R// Solución:\n",
    "#### [40, 10, 20], Precio x Horas respectivamente\n",
    "\n",
    "2. El problema es que el estudiante comete un error y en lugar de 4.1 horas en el primer procesador del tercer día, pone 4.2 horas. El error es mínimo se podría pensar. Resuelva el sistema para ver como cambia el valor de la hora en cada procesador, antes y después del error. Explique si el cambio es grande o no y por qué se da este cambio. Consulte una cota superior para el error relativo en la solución de un sistema cuando hay un cambio en los coeficientes de la matriz del sistema. Luego calcule una cota superior para el error relativo en el valor de la hora en los procesadores.\n",
    "#### R// Solución:\n",
    "$$\n",
    "Z = \\begin{bmatrix}\n",
    "20 & 31.53846154 & 10.76923077 \\end{bmatrix}\\\\$$\n",
    "#### R// Solución exacta\n",
    "$$ Solución-exacta: [40. 10. 20.] $$\n",
    "#### R// Error relativo cuando cambia coeficiente\n",
    "$$ E-relativo: 0.6722784379348697 $$\n",
    "#### R// Cota superior para el error relativo\n",
    "$$\n",
    "A = \\begin{bmatrix}\n",
    "0 & 0 & 0 \\\\\n",
    "0 & 0 & 0 \\\\\n",
    "23.01974907 & 0 & 0 \\\\\n",
    "\\end{bmatrix}\n",
    "$$\n",
    "\n",
    "\n",
    "\n"
   ]
  },
  {
   "cell_type": "markdown",
   "metadata": {},
   "source": [
    "### 1. Precio x hora en cada procesador."
   ]
  },
  {
   "cell_type": "code",
   "execution_count": 2,
   "metadata": {},
   "outputs": [
    {
     "name": "stdout",
     "output_type": "stream",
     "text": [
      "Solución:\n",
      "[40. 10. 20.]\n"
     ]
    }
   ],
   "source": [
    "import numpy as np\n",
    "\n",
    "# Coeficientes de las ecuaciones (matriz A)\n",
    "coeficientes = np.array([[2, 4, 5],\n",
    "                         [6, 9, 8],\n",
    "                         [4.1, 5, 3]])\n",
    "\n",
    "# Términos constantes (vector b)\n",
    "constantes = np.array([220, 490, 274])\n",
    "\n",
    "solucion = np.linalg.solve(coeficientes, constantes)\n",
    "\n",
    "print(\"Solución:\")\n",
    "print(solucion)\n"
   ]
  },
  {
   "cell_type": "markdown",
   "metadata": {},
   "source": [
    "### 2. Cambio de Coeficientes"
   ]
  },
  {
   "cell_type": "code",
   "execution_count": 3,
   "metadata": {},
   "outputs": [
    {
     "name": "stdout",
     "output_type": "stream",
     "text": [
      "Solución:\n",
      "[20.         31.53846154 10.76923077]\n",
      "Solución exacta: [40. 10. 20.]\n",
      "Solución aproximada: [20.         31.53846154 10.76923077]\n",
      "Error relativo: 0.6722784379348697\n",
      "Cota superior para el error relativo: \n",
      "[[ 0.          0.          0.        ]\n",
      " [ 0.          0.          0.        ]\n",
      " [23.01974907  0.          0.        ]]\n"
     ]
    }
   ],
   "source": [
    "##Problema 1.2\n",
    "\n",
    "# Coeficientes de las ecuaciones (matriz A)\n",
    "coeficientes2 = np.array([[2, 4, 5],\n",
    "                         [6, 9, 8],\n",
    "                         [4.2, 5, 3]])\n",
    "\n",
    "# Términos constantes (vector b)\n",
    "constantes2 = np.array([220, 490, 274])\n",
    "\n",
    "solucion2 = np.linalg.solve(coeficientes2, constantes2)\n",
    "\n",
    "print(\"Solución:\")\n",
    "print(solucion2)\n",
    "\n",
    "# Calcula el número de condición de la matriz original\n",
    "cond_A = np.linalg.cond(coeficientes2)\n",
    "cond_A\n",
    "\n",
    "# Calcula el error relativo entre la solución exacta y la aproximada\n",
    "error_rel = np.linalg.norm(solucion - solucion2) / np.linalg.norm(solucion)\n",
    "error_rel\n",
    "\n",
    "# Define la magnitud máxima del cambio en los coeficientes\n",
    "epsilon_coef = abs(coeficientes2 - coeficientes)\n",
    "epsilon_coef\n",
    "\n",
    "# Calcula la cota superior para el error relativo\n",
    "cota_superior = cond_A * epsilon_coef\n",
    "cota_superior\n",
    "\n",
    "\n",
    "# Imprime los resultados\n",
    "print(\"Solución exacta:\", solucion)\n",
    "print(\"Solución aproximada:\", solucion2)\n",
    "print(\"Error relativo:\", error_rel)\n",
    "print(\"Cota superior para el error relativo: \")\n",
    "print(cota_superior)"
   ]
  },
  {
   "cell_type": "code",
   "execution_count": null,
   "metadata": {},
   "outputs": [],
   "source": []
  }
 ],
 "metadata": {
  "kernelspec": {
   "display_name": "base",
   "language": "python",
   "name": "python3"
  },
  "language_info": {
   "codemirror_mode": {
    "name": "ipython",
    "version": 3
   },
   "file_extension": ".py",
   "mimetype": "text/x-python",
   "name": "python",
   "nbconvert_exporter": "python",
   "pygments_lexer": "ipython3",
   "version": "3.10.9"
  },
  "orig_nbformat": 4
 },
 "nbformat": 4,
 "nbformat_minor": 2
}
